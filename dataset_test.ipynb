{
 "cells": [
  {
   "cell_type": "code",
   "execution_count": null,
   "metadata": {},
   "outputs": [
    {
     "ename": "",
     "evalue": "",
     "output_type": "error",
     "traceback": [
      "\u001b[1;31mFailed to start the Kernel. \n",
      "\u001b[1;31mJupyter Server crashed. Unable to connect. \n",
      "\u001b[1;31mError code from Jupyter: 1\n",
      "\u001b[1;31mTraceback (most recent call last):\n",
      "\u001b[1;31m  File \"/Library/Frameworks/Python.framework/Versions/3.9/bin/jupyter-notebook\", line 5, in <module>\n",
      "\u001b[1;31m    from notebook.app import main\n",
      "\u001b[1;31m  File \"/Library/Frameworks/Python.framework/Versions/3.9/lib/python3.9/site-packages/notebook/app.py\", line 17, in <module>\n",
      "\u001b[1;31m    from jupyter_server.serverapp import flags\n",
      "\u001b[1;31m  File \"/Library/Frameworks/Python.framework/Versions/3.9/lib/python3.9/site-packages/jupyter_server/serverapp.py\", line 39, in <module>\n",
      "\u001b[1;31m    from jupyter_events.logger import EventLogger\n",
      "\u001b[1;31m  File \"/Library/Frameworks/Python.framework/Versions/3.9/lib/python3.9/site-packages/jupyter_events/__init__.py\", line 3, in <module>\n",
      "\u001b[1;31m    from .logger import EVENTS_METADATA_VERSION, EventLogger\n",
      "\u001b[1;31m  File \"/Library/Frameworks/Python.framework/Versions/3.9/lib/python3.9/site-packages/jupyter_events/logger.py\", line 14, in <module>\n",
      "\u001b[1;31m    from jsonschema import ValidationError\n",
      "\u001b[1;31m  File \"/Library/Frameworks/Python.framework/Versions/3.9/lib/python3.9/site-packages/jsonschema/__init__.py\", line 13, in <module>\n",
      "\u001b[1;31m    from jsonschema._format import FormatChecker\n",
      "\u001b[1;31m  File \"/Library/Frameworks/Python.framework/Versions/3.9/lib/python3.9/site-packages/jsonschema/_format.py\", line 11, in <module>\n",
      "\u001b[1;31m    from jsonschema.exceptions import FormatError\n",
      "\u001b[1;31m  File \"/Library/Frameworks/Python.framework/Versions/3.9/lib/python3.9/site-packages/jsonschema/exceptions.py\", line 15, in <module>\n",
      "\u001b[1;31m    from referencing.exceptions import Unresolvable as _Unresolvable\n",
      "\u001b[1;31m  File \"/Library/Frameworks/Python.framework/Versions/3.9/lib/python3.9/site-packages/referencing/__init__.py\", line 5, in <module>\n",
      "\u001b[1;31m    from referencing._core import Anchor, Registry, Resource, Specification\n",
      "\u001b[1;31m  File \"/Library/Frameworks/Python.framework/Versions/3.9/lib/python3.9/site-packages/referencing/_core.py\", line 9, in <module>\n",
      "\u001b[1;31m    from rpds import HashTrieMap, HashTrieSet, List\n",
      "\u001b[1;31m  File \"/Library/Frameworks/Python.framework/Versions/3.9/lib/python3.9/site-packages/rpds/__init__.py\", line 1, in <module>\n",
      "\u001b[1;31m    from .rpds import *\n",
      "\u001b[1;31mImportError: dlopen(/Library/Frameworks/Python.framework/Versions/3.9/lib/python3.9/site-packages/rpds/rpds.cpython-39-darwin.so, 0x0002): tried: '/Library/Frameworks/Python.framework/Versions/3.9/lib/python3.9/site-packages/rpds/rpds.cpython-39-darwin.so' (mach-o file, but is an incompatible architecture (have 'x86_64', need 'arm64e' or 'arm64')), '/System/Volumes/Preboot/Cryptexes/OS/Library/Frameworks/Python.framework/Versions/3.9/lib/python3.9/site-packages/rpds/rpds.cpython-39-darwin.so' (no such file), '/Library/Frameworks/Python.framework/Versions/3.9/lib/python3.9/site-packages/rpds/rpds.cpython-39-darwin.so' (mach-o file, but is an incompatible architecture (have 'x86_64', need 'arm64e' or 'arm64')). \n",
      "\u001b[1;31mView Jupyter <a href='command:jupyter.viewOutput'>log</a> for further details."
     ]
    }
   ],
   "source": [
    "from datasets import load_dataset\n",
    "\n",
    "print(\"Testing Hugging Face datasets loading...\")\n",
    "# Load a small sample dataset\n",
    "dataset = load_dataset(\"SALT-NLP/Design2Code-hf\")\n",
    "print(f\"Loaded dataset with {len(dataset['train'])} examples\")\n"
   ]
  }
 ],
 "metadata": {
  "kernelspec": {
   "display_name": ".venv",
   "language": "python",
   "name": "python3"
  },
  "language_info": {
   "name": "python",
   "version": "3.13.3"
  }
 },
 "nbformat": 4,
 "nbformat_minor": 2
}
