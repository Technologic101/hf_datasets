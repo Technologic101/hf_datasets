{
 "cells": [
  {
   "cell_type": "code",
   "execution_count": 3,
   "id": "979d156a",
   "metadata": {},
   "outputs": [
    {
     "name": "stdout",
     "output_type": "stream",
     "text": [
      "Testing Hugging Face datasets loading...\n",
      "Loaded dataset with 484 examples\n"
     ]
    }
   ],
   "source": [
    "from datasets import load_dataset\n",
    "\n",
    "print(\"Testing Hugging Face datasets loading...\")\n",
    "# Load a small sample dataset\n",
    "dataset = load_dataset(\"SALT-NLP/Design2Code-hf\")\n",
    "print(f\"Loaded dataset with {len(dataset['train'])} examples\")\n"
   ]
  },
  {
   "cell_type": "code",
   "execution_count": 4,
   "id": "f60a2598",
   "metadata": {},
   "outputs": [
    {
     "name": "stdout",
     "output_type": "stream",
     "text": [
      "\n",
      "Sample example:\n",
      "<PIL.PngImagePlugin.PngImageFile image mode=RGBA size=1280x3299 at 0x146FA74D0>\n"
     ]
    }
   ],
   "source": [
    "print(\"\\nSample example:\")\n",
    "print(dataset['train'][0]['image'])"
   ]
  }
 ],
 "metadata": {
  "kernelspec": {
   "display_name": ".venv",
   "language": "python",
   "name": "python3"
  },
  "language_info": {
   "codemirror_mode": {
    "name": "ipython",
    "version": 3
   },
   "file_extension": ".py",
   "mimetype": "text/x-python",
   "name": "python",
   "nbconvert_exporter": "python",
   "pygments_lexer": "ipython3",
   "version": "3.13.3"
  }
 },
 "nbformat": 4,
 "nbformat_minor": 5
}
